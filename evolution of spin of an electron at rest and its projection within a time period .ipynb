{
 "cells": [
  {
   "cell_type": "code",
   "execution_count": 1,
   "id": "b6e26c7b",
   "metadata": {},
   "outputs": [],
   "source": [
    "import numpy as np\n",
    "import matplotlib.pyplot as plt"
   ]
  },
  {
   "cell_type": "code",
   "execution_count": 2,
   "id": "7474bac3",
   "metadata": {},
   "outputs": [],
   "source": [
    "#B_z = constant\n",
    "h_cut = 1\n",
    "m_e = 1\n",
    "e_charge = 1\n",
    "g_e = 2.002319\n",
    "bohr_magneton = e_charge*h_cut/(2*m_e)\n",
    "gyro_con = (g_e/h_cut)*bohr_magneton\n",
    "#omega = g_e*bohr_magneton*B_z/h_cut"
   ]
  },
  {
   "cell_type": "code",
   "execution_count": 3,
   "id": "7e6d4c94",
   "metadata": {},
   "outputs": [],
   "source": [
    "def spin_function(spin_state):\n",
    "    if spin_state == \"spin_up\":\n",
    "        mat = np.array([[1], [0]])\n",
    "        return mat\n",
    "    elif spin_state == \"spin_down\":\n",
    "        mat = np.array([[0],[1]])\n",
    "        return mat\n",
    "    elif spin_state == \"spin_right\":   # +x\n",
    "        mat = np.array([[1],[1]])\n",
    "        return mat\n",
    "    elif spin_state == \"spin_left\":    # -x\n",
    "        mat = np.array([[1], [-1]])\n",
    "        return mat\n",
    "    elif spin_state == \"spin_out\":   # +y\n",
    "        mat = np.array([[1],[1j]])\n",
    "        return mat\n",
    "    elif spin_state == \"spin_in\":    # -y\n",
    "        mat = np.array([[1], [-1j]])\n",
    "        return mat"
   ]
  },
  {
   "cell_type": "code",
   "execution_count": 4,
   "id": "14096770",
   "metadata": {},
   "outputs": [],
   "source": [
    "def inner_product(left_vec, right_vec):\n",
    "    bra = (np.conj(left_vec)).T\n",
    "    ket = right_vec\n",
    "    inner_prod = bra @ ket\n",
    "    return inner_prod"
   ]
  },
  {
   "cell_type": "code",
   "execution_count": 5,
   "id": "88ae72a0",
   "metadata": {},
   "outputs": [],
   "source": [
    "def norm_column_vec(x):\n",
    "    # m, n = x.shape\n",
    "    inner_pro = inner_product(x, x)\n",
    "    # inner_prodcut is still a 1x1 array, lets extract the element and take its sqrt\n",
    "    norm = np.sqrt(np.squeeze(inner_pro))\n",
    "    x_norm = x / norm\n",
    "    return x_norm"
   ]
  },
  {
   "cell_type": "code",
   "execution_count": 6,
   "id": "b6865f95",
   "metadata": {},
   "outputs": [],
   "source": [
    "# H = K + V\n",
    "# K = 0 ; particle at rest; \n",
    "# H = V\n",
    "# V = zeeman interaction\n",
    "# V = (g_e*bohr_magneton/h_cut)*B*S\n",
    "# V = gyro_con*B*S\n",
    "# We choose a coordinat system so that B is pointing in the z dir;\n",
    "# B.S = Bz.Sz\n",
    "# Sz = pauli matrix in z direction measurement\n",
    "# also, omega = B*gyro_con\n",
    "# therefore the time_period of precession -> T = 2*pi/omega\n",
    "# V = omega*S"
   ]
  },
  {
   "cell_type": "code",
   "execution_count": 7,
   "id": "d983c062",
   "metadata": {},
   "outputs": [],
   "source": [
    "def tdse(ini_spin_state, t, omega):\n",
    "    spin_mat = spin_function(ini_spin_state)\n",
    "    a_0 = np.squeeze(spin_mat[0])\n",
    "    b_0 = np.squeeze(spin_mat[1])\n",
    "\n",
    "    a = a_0*np.exp(-1.0j*omega*t/2)\n",
    "    b = b_0*np.exp(1.0j*omega*t/2)\n",
    "    eigen_vec_t = np.array([[a], [b]])\n",
    "    eigen_vec_t = norm_column_vec(eigen_vec_t)\n",
    "\n",
    "    return eigen_vec_t"
   ]
  },
  {
   "cell_type": "code",
   "execution_count": 8,
   "id": "8ccc79f5",
   "metadata": {},
   "outputs": [],
   "source": [
    "def probability(ini_spin_state, t, omega, measurement_state):\n",
    "    eigen_vec_t = tdse(ini_spin_state, t, omega)\n",
    "    measurement_state = spin_function(measurement_state)\n",
    "    measurement_state = norm_column_vec(measurement_state)\n",
    "    probability = np.squeeze(np.square(inner_product(measurement_state, eigen_vec_t)))\n",
    "    \n",
    "    return abs(probability)"
   ]
  },
  {
   "cell_type": "code",
   "execution_count": 9,
   "id": "e82ddf1e",
   "metadata": {},
   "outputs": [],
   "source": [
    "B_z = 3\n",
    "h_cut = 1\n",
    "m_e = 1\n",
    "e_charge = 1\n",
    "g_e = 2.002319\n",
    "bohr_magneton = e_charge*h_cut/(2*m_e)\n",
    "gyro_con = (g_e/h_cut)*bohr_magneton\n",
    "omega = g_e*bohr_magneton*B_z/h_cut"
   ]
  },
  {
   "cell_type": "code",
   "execution_count": 26,
   "id": "e4fd5da2",
   "metadata": {},
   "outputs": [],
   "source": [
    "# Time period is of: 2*pi/omega\n",
    "time = np.arange(0,1.1, 0.01)\n",
    "ini_spin_state = \"spin_in\"\n",
    "measurement_state = \"spin_out\"\n",
    "prob = []\n",
    "for i in time:\n",
    "    t = i* 2*np.pi/omega\n",
    "    prob.append(probability(ini_spin_state, t, omega, measurement_state))"
   ]
  },
  {
   "cell_type": "code",
   "execution_count": 27,
   "id": "77cf7d8a",
   "metadata": {},
   "outputs": [
    {
     "data": {
      "text/plain": [
       "[<matplotlib.lines.Line2D at 0x7fa7e0e22ca0>]"
      ]
     },
     "execution_count": 27,
     "metadata": {},
     "output_type": "execute_result"
    },
    {
     "data": {
      "image/png": "[encoded data removed]",
      "text/plain": [
       "<Figure size 432x288 with 1 Axes>"
      ]
     },
     "metadata": {
      "needs_background": "light"
     },
     "output_type": "display_data"
    }
   ],
   "source": [
    "plt.plot(time, prob)"
   ]
  },
  {
   "cell_type": "code",
   "execution_count": null,
   "id": "8157d990",
   "metadata": {},
   "outputs": [],
   "source": []
  }
 ],
 "metadata": {
  "kernelspec": {
   "display_name": "Python 3",
   "language": "python",
   "name": "python3"
  },
  "language_info": {
   "codemirror_mode": {
    "name": "ipython",
    "version": 3
   },
   "file_extension": ".py",
   "mimetype": "text/x-python",
   "name": "python",
   "nbconvert_exporter": "python",
   "pygments_lexer": "ipython3",
   "version": "3.8.8"
  }
 },
 "nbformat": 4,
 "nbformat_minor": 5
}
