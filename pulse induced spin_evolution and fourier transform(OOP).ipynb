{
 "cells": [
  {
   "cell_type": "markdown",
   "id": "9b18dc1c",
   "metadata": {},
   "source": [
    "        ## The evolution here is only according to z-orientation pulse field"
   ]
  },
  {
   "cell_type": "markdown",
   "id": "19e65014",
   "metadata": {},
   "source": [
    "1. H = K + V\n",
    "2. K = 0 ; particle at rest; \n",
    "3. H = V\n",
    "4. V = zeeman interaction\n",
    "5. V = (g_e * bohr_magneton / h_cut) * B * S\n",
    "6. V = gyro_con*B*S\n",
    "        # We choose a coordinate (pulse dir) system so that B is pointing in the z dir;\n",
    "1. B.S = Bz.Sz\n",
    "2. Sz = pauli matrix in z direction measurement\n",
    "3. also, omega = B*gyro_con\n",
    "4. therefore the time_period of precession -> T = 2*pi/omega\n",
    "5. V = omega*S"
   ]
  },
  {
   "cell_type": "code",
   "execution_count": 1,
   "id": "b6e26c7b",
   "metadata": {},
   "outputs": [],
   "source": [
    "import numpy as np\n",
    "import matplotlib.pyplot as plt\n",
    "import scipy.fftpack as sft"
   ]
  },
  {
   "cell_type": "code",
   "execution_count": 2,
   "id": "05e1840d",
   "metadata": {},
   "outputs": [],
   "source": [
    "class electron_evolution:\n",
    "    \n",
    "    def __init__(self, Bz):\n",
    "        #self.prepared_state = prepared_state\n",
    "        #self.measured_state = measured_state\n",
    "        #self.time_grid = time_grid\n",
    "        #self.omega = omega\n",
    "        self.Bz = Bz\n",
    "        self.h_cut = 1\n",
    "        self.m_e = 1\n",
    "        self.e_charge = 1\n",
    "        self.g_e = 2.002319\n",
    "        self.bohr_magneton = self.e_charge*self.h_cut/(2*self.m_e)\n",
    "        self.gyro_con = (self.g_e/self.h_cut)*self.bohr_magneton\n",
    "        self.omega = self.g_e*self.bohr_magneton*self.Bz/self.h_cut\n",
    "    \n",
    "    def spin_function(self,spin_state):\n",
    "        if spin_state == \"spin_up\":\n",
    "            mat = np.array([[1], [0]])\n",
    "            return mat\n",
    "        elif spin_state == \"spin_down\":\n",
    "            mat = np.array([[0],[1]])\n",
    "            return mat\n",
    "        elif spin_state == \"spin_right\":   # +x\n",
    "            mat = np.array([[1],[1]])\n",
    "            return mat\n",
    "        elif spin_state == \"spin_left\":    # -x\n",
    "            mat = np.array([[1], [-1]])\n",
    "            return mat\n",
    "        elif spin_state == \"spin_out\":   # +y\n",
    "            mat = np.array([[1],[1j]])\n",
    "            return mat\n",
    "        elif spin_state == \"spin_in\":    # -y\n",
    "            mat = np.array([[1], [-1j]])\n",
    "            return mat\n",
    "    \n",
    "    def inner_product(self,left_vec, right_vec):\n",
    "        bra = (np.conj(left_vec)).T\n",
    "        ket = right_vec\n",
    "        inner_prod = bra @ ket\n",
    "        return inner_prod\n",
    "    \n",
    "    def norm_column_vec(self, x):\n",
    "        # m, n = x.shape\n",
    "        inner_pro = self.inner_product(x, x)\n",
    "        # inner_prodcut is still a 1x1 array, lets extract the element and take its sqrt\n",
    "        norm = np.sqrt(np.squeeze(inner_pro))\n",
    "        x_norm = x / norm\n",
    "        return x_norm\n",
    "\n",
    "    def tdse_z(self,prepared_state, t):\n",
    "        spin_mat = self.spin_function(prepared_state)\n",
    "        a_0 = np.squeeze(spin_mat[0])\n",
    "        b_0 = np.squeeze(spin_mat[1])\n",
    "\n",
    "        a = a_0*np.exp(-1.0j*self.omega*t/2)\n",
    "        b = b_0*np.exp(1.0j*self.omega*t/2)\n",
    "        eigen_vec_t = np.array([[a], [b]])\n",
    "        eigen_vec_t = self.norm_column_vec(eigen_vec_t)\n",
    "\n",
    "        return eigen_vec_t\n",
    "    \n",
    "    def probability_cal(self,prepared_state, t, measured_state):\n",
    "        eigen_vec_t = self.tdse_z(prepared_state, t)\n",
    "        measured_state = self.spin_function(measured_state)\n",
    "        measured_state = self.norm_column_vec(measured_state)\n",
    "        probability = np.squeeze(np.square(self.inner_product(measured_state, eigen_vec_t)))\n",
    "        \n",
    "        return abs(probability)\n",
    "    \n",
    "    def prob_n_grid(self, prepared_state, measured_state, time):\n",
    "        prob_t = []\n",
    "        time_grid = 2*(np.pi/self.omega)*time\n",
    "        \n",
    "        # Creating freq grid for fourier transformed w.f.\n",
    "        dt = time_grid[1] - time_grid[0]\n",
    "        N = len(time_grid)\n",
    "        spatial_freq = sft.fftfreq(N, dt)\n",
    "        freq_grid = 2*np.pi*spatial_freq\n",
    "        \n",
    "        for t in time_grid:\n",
    "            prob_t.append(self.probability_cal(prepared_state, t, measured_state))\n",
    "        \n",
    "        # fourier transformed measuring prob\n",
    "        prob_om = sft.fft(prob_t)\n",
    "        \n",
    "        prob_dict = {\"prob_time\": prob_t, \"prob_om\": prob_om}\n",
    "        grid_dict = {\"time_grid\": time_grid, \"freq_grid\":freq_grid}\n",
    "        \n",
    "        return prob_dict, grid_dict"
   ]
  },
  {
   "cell_type": "code",
   "execution_count": 3,
   "id": "e82ddf1e",
   "metadata": {},
   "outputs": [],
   "source": [
    "Bz = 2\n",
    "time = np.arange(0,10.1, 0.001)\n",
    "method= electron_evolution(2)"
   ]
  },
  {
   "cell_type": "code",
   "execution_count": 4,
   "id": "6146a61e",
   "metadata": {},
   "outputs": [],
   "source": [
    "prepared_state = \"spin_right\"\n",
    "measured_state = \"spin_right\"\n",
    "prob_dict, grid_dict = method.prob_n_grid(prepared_state, measured_state, time)"
   ]
  },
  {
   "cell_type": "code",
   "execution_count": 5,
   "id": "77cf7d8a",
   "metadata": {},
   "outputs": [
    {
     "data": {
      "text/plain": [
       "[<matplotlib.lines.Line2D at 0x7f5450a451c0>]"
      ]
     },
     "execution_count": 5,
     "metadata": {},
     "output_type": "execute_result"
    },
    {
     "data": {
      "image/png": "[encoded data removed]",
      "text/plain": [
       "<Figure size 432x288 with 1 Axes>"
      ]
     },
     "metadata": {
      "needs_background": "light"
     },
     "output_type": "display_data"
    }
   ],
   "source": [
    "prob_t = prob_dict[\"prob_time\"]\n",
    "time_grid = grid_dict[\"time_grid\"]\n",
    "plt.plot(time_grid, prob_t)"
   ]
  },
  {
   "cell_type": "markdown",
   "id": "2bb5b3fa",
   "metadata": {},
   "source": [
    "                # Let's do the F.T. to find the periodicity of the w.f."
   ]
  },
  {
   "cell_type": "code",
   "execution_count": 6,
   "id": "5012c3e4",
   "metadata": {},
   "outputs": [
    {
     "name": "stderr",
     "output_type": "stream",
     "text": [
      "/home/user/anaconda3/lib/python3.8/site-packages/numpy/core/_asarray.py:102: ComplexWarning: Casting complex values to real discards the imaginary part\n",
      "  return array(a, dtype, copy=False, order=order)\n"
     ]
    },
    {
     "data": {
      "text/plain": [
       "(-5.0, 5.0)"
      ]
     },
     "execution_count": 6,
     "metadata": {},
     "output_type": "execute_result"
    },
    {
     "data": {
      "image/png": "[encoded data removed]",
      "text/plain": [
       "<Figure size 432x288 with 1 Axes>"
      ]
     },
     "metadata": {
      "needs_background": "light"
     },
     "output_type": "display_data"
    }
   ],
   "source": [
    "prob_om = prob_dict[\"prob_om\"]\n",
    "freq_grid = grid_dict[\"freq_grid\"]\n",
    "plt.plot(freq_grid, prob_om)\n",
    "plt.xlim(-5,5)\n",
    "# Therefore, it is visible that according to the pulse of Bz,\n",
    "# the delta function is chagning accordingly."
   ]
  },
  {
   "cell_type": "code",
   "execution_count": null,
   "id": "dc5f31bf",
   "metadata": {},
   "outputs": [],
   "source": []
  },
  {
   "cell_type": "code",
   "execution_count": null,
   "id": "704be6ee",
   "metadata": {},
   "outputs": [],
   "source": []
  }
 ],
 "metadata": {
  "kernelspec": {
   "display_name": "Python 3",
   "language": "python",
   "name": "python3"
  },
  "language_info": {
   "codemirror_mode": {
    "name": "ipython",
    "version": 3
   },
   "file_extension": ".py",
   "mimetype": "text/x-python",
   "name": "python",
   "nbconvert_exporter": "python",
   "pygments_lexer": "ipython3",
   "version": "3.8.8"
  }
 },
 "nbformat": 4,
 "nbformat_minor": 5
}
